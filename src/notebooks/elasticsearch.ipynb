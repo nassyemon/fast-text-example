{
 "nbformat": 4,
 "nbformat_minor": 2,
 "metadata": {
  "language_info": {
   "name": "python",
   "codemirror_mode": {
    "name": "ipython",
    "version": 3
   },
   "version": "3.7.6"
  },
  "orig_nbformat": 2,
  "file_extension": ".py",
  "mimetype": "text/x-python",
  "name": "python",
  "npconvert_exporter": "python",
  "pygments_lexer": "ipython3",
  "version": 3
 },
 "cells": [
  {
   "cell_type": "code",
   "execution_count": 11,
   "metadata": {},
   "outputs": [
    {
     "data": {
      "text/plain": "{'acknowledged': True, 'shards_acknowledged': True, 'index': 'docs'}"
     },
     "execution_count": 11,
     "metadata": {},
     "output_type": "execute_result"
    }
   ],
   "source": [
    "from elasticsearch import Elasticsearch\n",
    "\n",
    "host = \"localhost:9200\"\n",
    "index_name=\"docs\"\n",
    "conn = Elasticsearch([host])\n",
    "setting = \"\"\"\n",
    "\"\"\"\n",
    "mapping = \"\"\"\n",
    "{\n",
    "    \"settings\": {\n",
    "        \"analysis\": {\n",
    "            \"analyzer\": {\n",
    "                \"es_kuromoji_analyzer\": {\n",
    "                \"char_filter\": [\n",
    "                    \"kuromoji_iteration_mark\"\n",
    "                ],\n",
    "                \"filter\": [\n",
    "                    \"kuromoji_baseform\",\n",
    "                    \"kuromoji_part_of_speech\",\n",
    "                    \"ja_stop\",\n",
    "                    \"kuromoji_number\",\n",
    "                    \"kuromoji_stemmer\"\n",
    "                ],\n",
    "                \"tokenizer\": \"kuromoji_tokenizer\",\n",
    "                \"type\": \"custom\"\n",
    "                }\n",
    "            }\n",
    "        }\n",
    "    },\n",
    "    \"mappings\": {\n",
    "        \"properties\": {\n",
    "            \"doc_id\": {\n",
    "                \"type\": \"keyword\"\n",
    "            },\n",
    "            \"name\": {\n",
    "                \"type\": \"keyword\"\n",
    "            },\n",
    "            \"wakati\": {\n",
    "                \"type\": \"keyword\"\n",
    "            },\n",
    "            \"text\": {\n",
    "                \"analyzer\": \"es_kuromoji_analyzer\",\n",
    "                \"search_analyzer\": \"es_kuromoji_analyzer\",\n",
    "                \"search_quote_analyzer\": \"es_kuromoji_analyzer\",\n",
    "                \"term_vector\": \"with_positions_offsets\",\n",
    "                \"type\": \"text\"\n",
    "            }\n",
    "        }\n",
    "    }\n",
    "}\"\"\"\n",
    "\n",
    "conn.indices.delete(index=index_name, ignore=[400, 404])\n",
    "conn.indices.create(index=index_name, ignore=400, body=mapping)\n"
   ]
  },
  {
   "cell_type": "code",
   "execution_count": null,
   "metadata": {},
   "outputs": [],
   "source": []
  }
 ]
}