{
 "nbformat": 4,
 "nbformat_minor": 2,
 "metadata": {
  "language_info": {
   "name": "python",
   "codemirror_mode": {
    "name": "ipython",
    "version": 3
   },
   "version": "3.7.6"
  },
  "orig_nbformat": 2,
  "file_extension": ".py",
  "mimetype": "text/x-python",
  "name": "python",
  "npconvert_exporter": "python",
  "pygments_lexer": "ipython3",
  "version": 3
 },
 "cells": [
  {
   "cell_type": "code",
   "execution_count": 26,
   "metadata": {},
   "outputs": [],
   "source": [
    "import pandas as pd\n",
    "import re\n",
    "import MeCab\n",
    "from elasticsearch import Elasticsearch"
   ]
  },
  {
   "cell_type": "code",
   "execution_count": 41,
   "metadata": {},
   "outputs": [],
   "source": [
    "neologd_dict_dir=\"C:/Tools/MeCab/dic/mecab-ipadic-neologd/\"\n",
    "csv_dir=\"C:/Users/00991442/Desktop/recommend_letter_utf8.csv\"\n",
    "es_host = \"localhost:9200\"\n",
    "index_name=\"docs\"\n",
    "\n",
    "\n",
    "wakati = MeCab.Tagger(f\"-Owakati -d{neologd_dict_dir}\")\n",
    "conn = Elasticsearch([es_host])"
   ]
  },
  {
   "cell_type": "code",
   "execution_count": 30,
   "metadata": {},
   "outputs": [],
   "source": [
    "df = pd.read_csv(csv_dir, encoding=\"utf8\")\n",
    "#df[0:1]"
   ]
  },
  {
   "cell_type": "code",
   "execution_count": 24,
   "metadata": {},
   "outputs": [],
   "source": [
    "letters = df[[\"会員番号\", \"レコメンドレター\", \"ふりがな(名)\"]].loc[df['レコメンドレター'].notna()].rename(columns={\"レコメンドレター\":\"text\", \"ふりがな(名)\": \"name\", \"会員番号\": \"member_no\"})\n",
    "data = [*letters.T.to_dict().values()]\n",
    "# data[0:10]\n",
    "#letters[0:10].to_json(\"letters.json\", force_ascii=False, orient=\"records\")"
   ]
  },
  {
   "cell_type": "code",
   "execution_count": 25,
   "metadata": {},
   "outputs": [],
   "source": [
    "re_white_space = re.compile(\"\\s+\")\n",
    "\n",
    "def to_wakati(text):\n",
    "    text = wakati.parse(text)\n",
    "    return re_white_space.split(text)"
   ]
  },
  {
   "cell_type": "code",
   "execution_count": null,
   "metadata": {},
   "outputs": [],
   "source": []
  },
  {
   "cell_type": "code",
   "execution_count": 23,
   "metadata": {},
   "outputs": [],
   "source": [
    "def replace_name(name, text):\n",
    "    re_name_expression = re.compile(f\"({name}(さん|様|さま))\")\n",
    "    return re_name_expression.sub(\"NAME\", text)\n",
    "\n",
    "def to_index_data(record):\n",
    "    doc_id = record[\"member_no\"]\n",
    "    name = record[\"name\"]\n",
    "    text = record[\"text\"]\n",
    "    replaced = replace_name(name, text)\n",
    "    wakati = to_wakati(replaced)\n",
    "    return { \"doc_id\": doc_id, \"name\": name, \"text\": replaced, \"wakati\": wakati  }\n",
    "\n",
    "\n",
    "\n",
    "# [*map(lambda x: to_index_data(x), data[0:1] )]"
   ]
  },
  {
   "cell_type": "code",
   "execution_count": 44,
   "metadata": {},
   "outputs": [],
   "source": [
    "limit = -1\n",
    "run = False\n",
    "if run:\n",
    "    for record in data[0:limit]:\n",
    "        doc = to_index_data(record)\n",
    "        # print(f\"putting {doc['doc_id']}\")\n",
    "        res = conn.index(index=index_name, id=doc[\"doc_id\"], body=doc)\n"
   ]
  },
  {
   "cell_type": "code",
   "execution_count": null,
   "metadata": {},
   "outputs": [],
   "source": []
  }
 ]
}