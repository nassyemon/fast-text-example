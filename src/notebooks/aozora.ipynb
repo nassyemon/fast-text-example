{
 "nbformat": 4,
 "nbformat_minor": 2,
 "metadata": {
  "language_info": {
   "name": "python",
   "codemirror_mode": {
    "name": "ipython",
    "version": 3
   },
   "version": "3.7.3"
  },
  "orig_nbformat": 2,
  "file_extension": ".py",
  "mimetype": "text/x-python",
  "name": "python",
  "npconvert_exporter": "python",
  "pygments_lexer": "ipython3",
  "version": 3
 },
 "cells": [
  {
   "cell_type": "code",
   "execution_count": 1,
   "metadata": {},
   "outputs": [],
   "source": [
    "from pathlib import Path\n",
    "import re\n",
    "import zipfile\n",
    "import io"
   ]
  },
  {
   "cell_type": "code",
   "execution_count": 2,
   "metadata": {},
   "outputs": [],
   "source": [
    "cards_dir = \"/Users/ec2-user/Data/aozorabunko/cards\"\n",
    "dest_dir = \"/Users/ec2-user/Data/aozorabunko-raw/\""
   ]
  },
  {
   "cell_type": "code",
   "execution_count": 10,
   "metadata": {},
   "outputs": [],
   "source": [
    "def get_cards(cards_dir):\n",
    "    return [\n",
    "        sub_dir.name\n",
    "        for sub_dir in Path(cards_dir).resolve().iterdir()\n",
    "        if sub_dir.is_dir() and re.match(\"[0-9]{6}\", sub_dir.name)\n",
    "    ]\n",
    "aozora_cards = get_cards(cards_dir)"
   ]
  },
  {
   "cell_type": "code",
   "execution_count": 37,
   "metadata": {},
   "outputs": [],
   "source": [
    "def list_zips(card):\n",
    "    try:\n",
    "        return [\n",
    "            sub_dir.name\n",
    "            for sub_dir in Path(cards_dir).joinpath(card, \"files\").resolve().iterdir()\n",
    "            if sub_dir.is_file() and sub_dir.suffix == \".zip\"\n",
    "        ]\n",
    "    except Exception as e:\n",
    "        print(e)\n",
    "        return None\n",
    "\n",
    "zips = list_zips(cards[0])"
   ]
  },
  {
   "cell_type": "code",
   "execution_count": 45,
   "metadata": {},
   "outputs": [],
   "source": [
    "def read_zip(file, encoding=\"shift_jis\"):\n",
    "    with open(file, 'rb') as f:\n",
    "        buf = f.read()\n",
    "        try:\n",
    "            z = zipfile.ZipFile(io.BytesIO(buf))\n",
    "            for file in z.infolist():\n",
    "                files = [\n",
    "                    (info.filename, z.read(info).decode(encoding, errors=\"ignore\"))\n",
    "                    for info in z.infolist()\n",
    "                    if Path(info.filename).suffix == \".txt\"\n",
    "                ]\n",
    "        except Exception as e:\n",
    "            return None\n",
    "    return files\n",
    "\n",
    "files = read_zip(Path(cards_dir).joinpath(cards[0], \"files\", zips[0]))"
   ]
  },
  {
   "cell_type": "code",
   "execution_count": 46,
   "metadata": {},
   "outputs": [
    {
     "data": {
      "text/plain": "'三月の午後\\n雪解けの土堤っ原で\\n子供らが蕗のとうを摘んでいる\\nやせこけたくびすじ\\n血の気のない頬の色\\n\\nざるの中を覗き込んで\\n淋しそうに微笑んだ少女の横顔のいたいたしさ\\n\\nおお、飢えと寒さの中に\\n今も凶作地の子供達は\\n熱心に蕗のとうを摘んでいる\\n\\n子供等よ！\\nお前らの兄んちゃんは\\n何をして警官に縛られたのか\\n何の為に満洲へ送られて行ったのか\\n姉さん達はどうして都会から帰って来たのか\\nお前らは知ってるね\\n何十年の間、お前らの父ちゃんから税金を捲きあげていた地主は\\nお前らの生活を保証してくれたか？\\nおまんまのかわりに\\n苦がい蕗のとうを喰うお前らの小さな胸にも\\n今は強い敵意が燃えている\\n天災だと云って\\n\\nしらを切ったのはど奴だ！\\n「困るのは小作だけでない」\\nそう云った代議士（地主）の言葉にウソがなかったか\\n子供等よ！ いつ地主の子供が\\nお前等と一緒に蕗のとうを摘みに行ったか\\nいつ、地主のお膳に\\nぬか団子が転っていたか\\n修身講話が次から次へとウソになって現れて来たいま\\nおお お前らのあたまも「学校」から離れる\\n\\n北風の吹く夕暮れ\\n母親は馬カゴのもち草を\\n河っぷちで洗ってる\\n子供らはざるを抱えて家路へ急ぐ\\n背中の児は空腹を訴えて泣き\\n背負った子供は寒さに震える\\nだが、見るがよい\\n水涕をたらした男の児等の面がまえを！\\n児を背負った少女の瞳を！\\nおお、凶作地の子供等よ！\\nその顔に現れた反抗と憎悪をもって\\n兄んちゃんのような強つい人間に成れ！\\n苦がい蕗のとうのざるをほうり出して\\n父ちゃんから税金を捲きあげた奴等に向って\\nあったかい米のご飯を要求するんだ！\\n\\n（『プロレタリア文学』一九三二年二月号に発表）'"
     },
     "execution_count": 46,
     "metadata": {},
     "output_type": "execute_result"
    }
   ],
   "source": [
    "def strip_text(text):\n",
    "    text = text.replace(\"\\r\\n\", \"\\n\")\n",
    "    text = text.replace(\"\\u3000\", \" \")\n",
    "    splitted = re.split(r'\\-{5,}', text)\n",
    "    text = splitted[2] if len(splitted) > 2 else text\n",
    "    text = re.split(r'底本：', text)[0]\n",
    "    text = re.sub(r'《.+?》', '', text)\n",
    "    text = re.sub(r'［＃.+?］', '', text)\n",
    "    text = text.strip()\n",
    "    return text\n",
    "\n",
    "strip_text(files[0][1])"
   ]
  },
  {
   "cell_type": "code",
   "execution_count": 47,
   "metadata": {},
   "outputs": [
    {
     "name": "stdout",
     "output_type": "stream",
     "text": "saved fukino_too_tsumu_kodomora.txt to /Users/ec2-user/Data/aozorabunko-raw/001655/54268_ruby_57883/fukino_too_tsumu_kodomora.txt\n"
    }
   ],
   "source": [
    "def mkdir(card, zip_file):\n",
    "    zip_stem = Path(zip_file).stem\n",
    "    Path(dest_dir).joinpath(card, zip_stem).mkdir(parents=True, exist_ok=True)\n",
    "\n",
    "def savefile(card, zip_file, filename, text):\n",
    "    zip_stem = Path(zip_file).stem\n",
    "    filename_stem = Path(filename).stem\n",
    "    filepath = Path(dest_dir).joinpath(card, zip_stem, filename_stem+\".txt\").resolve()\n",
    "    with open(filepath, \"w\", encoding=\"utf8\") as f:\n",
    "        f.write(text)\n",
    "        print(f\"saved {filename} to {filepath}\")\n",
    "\n",
    "mkdir(cards[0], zips[0])\n",
    "savefile(cards[0], zips[0], files[0][0], strip_text(files[0][1]))"
   ]
  },
  {
   "cell_type": "code",
   "execution_count": 48,
   "metadata": {},
   "outputs": [
    {
     "name": "stdout",
     "output_type": "stream",
     "text": "saved fukino_too_tsumu_kodomora.txt to /Users/ec2-user/Data/aozorabunko-raw/001655/54268_ruby_57883/fukino_too_tsumu_kodomora.txt\n"
    }
   ],
   "source": [
    "def process_zip(card, zip_file):\n",
    "    mkdir(card, zip_file)\n",
    "    files = read_zip(Path(cards_dir).joinpath(card, \"files\", zip_file))\n",
    "    if files is None:\n",
    "        print(f\"skipping zip_file {card}/{zip_file}\")\n",
    "        return\n",
    "    texts_to_save = [ (filename, strip_text(text)) for filename, text in files]\n",
    "    for (filename, text) in texts_to_save:\n",
    "        savefile(card, zip_file, filename, text)\n",
    "\n",
    "process_zip(cards[0], zips[0])"
   ]
  },
  {
   "cell_type": "code",
   "execution_count": 49,
   "metadata": {},
   "outputs": [
    {
     "name": "stdout",
     "output_type": "stream",
     "text": "saved fukino_too_tsumu_kodomora.txt to /Users/ec2-user/Data/aozorabunko-raw/001655/54268_ruby_57883/fukino_too_tsumu_kodomora.txt\nsaved oyajino_kotoba.txt to /Users/ec2-user/Data/aozorabunko-raw/001655/54264_ruby_57982/oyajino_kotoba.txt\nsaved reporter.txt to /Users/ec2-user/Data/aozorabunko-raw/001655/54269_ruby_57884/reporter.txt\nsaved hahae.txt to /Users/ec2-user/Data/aozorabunko-raw/001655/54266_ruby_57981/hahae.txt\nsaved shiroi_mano_te.txt to /Users/ec2-user/Data/aozorabunko-raw/001655/54265_ruby_57867/shiroi_mano_te.txt\nsaved hinnono_utaeru_shi.txt to /Users/ec2-user/Data/aozorabunko-raw/001655/54267_ruby_57866/hinnono_utaeru_shi.txt\n"
    }
   ],
   "source": [
    "def process_card(card):\n",
    "    zip_files = list_zips(card)\n",
    "    if zip_files is None:\n",
    "        print(f\"skipping card {card}\")\n",
    "        return\n",
    "    for zip_file in zip_files:\n",
    "       process_zip(card, zip_file)\n",
    "\n",
    "process_card(aozora_cards[0])"
   ]
  },
  {
   "cell_type": "code",
   "execution_count": 50,
   "metadata": {},
   "outputs": [
    {
     "name": "stdout",
     "output_type": "stream",
     "text": "#### processing card:001655\nsaved fukino_too_tsumu_kodomora.txt to /Users/ec2-user/Data/aozorabunko-raw/001655/54268_ruby_57883/fukino_too_tsumu_kodomora.txt\nsaved oyajino_kotoba.txt to /Users/ec2-user/Data/aozorabunko-raw/001655/54264_ruby_57982/oyajino_kotoba.txt\nsaved reporter.txt to /Users/ec2-user/Data/aozorabunko-raw/001655/54269_ruby_57884/reporter.txt\nsaved hahae.txt to /Users/ec2-user/Data/aozorabunko-raw/001655/54266_ruby_57981/hahae.txt\nsaved shiroi_mano_te.txt to /Users/ec2-user/Data/aozorabunko-raw/001655/54265_ruby_57867/shiroi_mano_te.txt\nsaved hinnono_utaeru_shi.txt to /Users/ec2-user/Data/aozorabunko-raw/001655/54267_ruby_57866/hinnono_utaeru_shi.txt\n#### processing card:001231\nsaved sekaini_okeru_indo.txt to /Users/ec2-user/Data/aozorabunko-raw/001231/46297_txt_37292/sekaini_okeru_indo.txt\nsaved indono_seijin.txt to /Users/ec2-user/Data/aozorabunko-raw/001231/46296_txt_35652/indono_seijin.txt\n"
    }
   ],
   "source": [
    "def process_all_cards(cards):\n",
    "    for card in cards:\n",
    "        print(f\"#### processing card:{card}\")\n",
    "        process_card(card)\n",
    "    print(\"#### finished #####\")\n",
    "\n",
    "process_all_cards(aozora_cards[0:2])"
   ]
  },
  {
   "cell_type": "code",
   "execution_count": 51,
   "metadata": {},
   "outputs": [
    {
     "name": "stdout",
     "output_type": "stream",
     "text": "txt\nsaved watashino_sukina_hito.txt to /Users/ec2-user/Data/aozorabunko-raw/001288/47119_txt_28894/watashino_sukina_hito.txt\nsaved kokorono_shirabe.txt to /Users/ec2-user/Data/aozorabunko-raw/001288/47112_txt_27517/kokorono_shirabe.txt\nsaved otono_sekaini_ikiru.txt to /Users/ec2-user/Data/aozorabunko-raw/001288/47107_ruby_28769/otono_sekaini_ikiru.txt\nsaved watashino_wakaikoro.txt to /Users/ec2-user/Data/aozorabunko-raw/001288/47120_txt_27519/watashino_wakaikoro.txt\nsaved junsuino_koe.txt to /Users/ec2-user/Data/aozorabunko-raw/001288/47114_txt_28891/junsuino_koe.txt\nsaved koeto_shokumotsu.txt to /Users/ec2-user/Data/aozorabunko-raw/001288/47109_ruby_28888/koeto_shokumotsu.txt\n#### processing card:000168\nsaved nanboku.txt to /Users/ec2-user/Data/aozorabunko-raw/000168/50759_ruby_45904/nanboku.txt\nsaved hino_tsuita_tabako.txt to /Users/ec2-user/Data/aozorabunko-raw/000168/59147_ruby_66502/hino_tsuita_tabako.txt\nsaved onmi_ruby.txt to /Users/ec2-user/Data/aozorabunko-raw/000168/908_ruby/onmi_ruby.txt\nsaved pekinto_pari.txt to /Users/ec2-user/Data/aozorabunko-raw/000168/56936_ruby_57024/pekinto_pari.txt\nsaved yoruno_kutsu.txt to /Users/ec2-user/Data/aozorabunko-raw/000168/3511_ruby_4087/yoruno_kutsu.txt\nsaved akaikimono.txt to /Users/ec2-user/Data/aozorabunko-raw/000168/903_ruby_2167/akaikimono.txt\nsaved tori.txt to /Users/ec2-user/Data/aozorabunko-raw/000168/909_txt_517/tori.txt\nsaved seianjino_hibun.txt to /Users/ec2-user/Data/aozorabunko-raw/000168/56935_txt_57048/seianjino_hibun.txt\nsaved biwako.txt to /Users/ec2-user/Data/aozorabunko-raw/000168/46173_ruby_24767/biwako.txt\nsaved shinba.txt to /Users/ec2-user/Data/aozorabunko-raw/000168/2163_txt_5597/shinba.txt\nsaved marukusuno_shinpan.txt to /Users/ec2-user/Data/aozorabunko-raw/000168/2159_ruby_5617/marukusuno_shinpan.txt\nsaved sufinkusu.txt to /Users/ec2-user/Data/aozorabunko-raw/000168/56938_ruby_57025/sufinkusu.txt\nsaved keshinonaka.txt to /Users/ec2-user/Data/aozorabunko-raw/000168/2155_ruby/keshinonaka.txt\nsaved basha.txt to /Users/ec2-user/Data/aozorabunko-raw/000168/4887_ruby_64034/basha.txt\nsaved yoto.txt to /Users/ec2-user/Data/aozorabunko-raw/000168/2150_ruby_6369/yoto.txt\nsaved warawareta_ko.txt to /Users/ec2-user/Data/aozorabunko-raw/000168/2303_ruby_2173/warawareta_ko.txt\nsaved chichi.txt to /Users/ec2-user/Data/aozorabunko-raw/000168/2160_ruby_5602/chichi.txt\nsaved tsuyu.txt to /Users/ec2-user/Data/aozorabunko-raw/000168/58583_txt_64035/tsuyu.txt\nsaved nanakaino_undo.txt to /Users/ec2-user/Data/aozorabunko-raw/000168/3627_ruby_5603/nanakaino_undo.txt\nsaved zetsuboo_ataetaru_mono.txt to /Users/ec2-user/Data/aozorabunko-raw/000168/58873_txt_64148/zetsuboo_ataetaru_mono.txt\nsaved mocho.txt to /Users/ec2-user/Data/aozorabunko-raw/000168/3626_ruby/mocho.txt\nsaved napoleontotamushi.txt to /Users/ec2-user/Data/aozorabunko-raw/000168/1080_ruby/napoleontotamushi.txt\nsaved mujono_kaze.txt to /Users/ec2-user/Data/aozorabunko-raw/000168/43293_txt_18449/mujono_kaze.txt\nsaved ryoshu.txt to /Users/ec2-user/Data/aozorabunko-raw/000168/2246_ruby_3821/ryoshu.txt\nsaved jyunsui_shosetsuron.txt to /Users/ec2-user/Data/aozorabunko-raw/000168/2152_ruby/jyunsui_shosetsuron.txt\nsaved shin_kankakuha.txt to /Users/ec2-user/Data/aozorabunko-raw/000168/2151_ruby_12106/shin_kankakuha.txt\nsaved atama_narabini_hara.txt to /Users/ec2-user/Data/aozorabunko-raw/000168/2158_txt_5591/atama_narabini_hara.txt\nsaved ichijyono_kiben.txt to /Users/ec2-user/Data/aozorabunko-raw/000168/3628_ruby_5596/ichijyono_kiben.txt\nsaved bisho.txt to /Users/ec2-user/Data/aozorabunko-raw/000168/2149_ruby_10216/bisho.txt\nsaved hi_ruby.txt to /Users/ec2-user/Data/aozorabunko-raw/000168/905_ruby/hi_ruby.txt\nsaved haruhabasyani_ruby.txt to /Users/ec2-user/Data/aozorabunko-raw/000168/904_ruby/haruhabasyani_ruby.txt\nsaved yume_moromoro.txt to /Users/ec2-user/Data/aozorabunko-raw/000168/2153_ruby_28786/yume_moromoro.txt\nsaved napoleonto_tamushi.txt to /Users/ec2-user/Data/aozorabunko-raw/000168/1080_ruby_4732/napoleonto_tamushi.txt\nsaved shanhai.txt to /Users/ec2-user/Data/aozorabunko-raw/000168/50899_ruby_42700/shanhai.txt\nsaved shinkankakuron.txt to /Users/ec2-user/Data/aozorabunko-raw/000168/4888_ruby_45903/shinkankakuron.txt\nsaved gawa_dokonidemo_iru.txt to /Users/ec2-user/Data/aozorabunko-raw/000168/58573_ruby_62517/gawa_dokonidemo_iru.txt\nsaved fuyuno_onna.txt to /Users/ec2-user/Data/aozorabunko-raw/000168/3625_ruby/fuyuno_onna.txt\nsaved chuubounikki.txt to /Users/ec2-user/Data/aozorabunko-raw/000168/2156_ruby/chuubounikki.txt\nsaved haruna.txt to /Users/ec2-user/Data/aozorabunko-raw/000168/4655_ruby_15320/haruna.txt\nsaved shizukanaru_raretsu.txt to /Users/ec2-user/Data/aozorabunko-raw/000168/4433_ruby_14434/shizukanaru_raretsu.txt\nsaved oshu_kiko.txt to /Users/ec2-user/Data/aozorabunko-raw/000168/56934_ruby_57562/oshu_kiko.txt\nsaved hiei.txt to /Users/ec2-user/Data/aozorabunko-raw/000168/1060_ruby_4727/hiei.txt\nsaved nichirin.txt to /Users/ec2-user/Data/aozorabunko-raw/000168/4252_ruby_35180/nichirin.txt\nsaved machino_soko.txt to /Users/ec2-user/Data/aozorabunko-raw/000168/4876_ruby_15891/machino_soko.txt\nsaved sakkano_seikatsu.txt to /Users/ec2-user/Data/aozorabunko-raw/000168/49993_txt_38289/sakkano_seikatsu.txt\nsaved ukai.txt to /Users/ec2-user/Data/aozorabunko-raw/000168/1110_ruby_20314/ukai.txt\nsaved mokushino_page.txt to /Users/ec2-user/Data/aozorabunko-raw/000168/2164_ruby_18270/mokushino_page.txt\nsaved warerato_nihon.txt to /Users/ec2-user/Data/aozorabunko-raw/000168/56937_txt_57049/warerato_nihon.txt\nsaved jikan.txt to /Users/ec2-user/Data/aozorabunko-raw/000168/906_ruby/jikan.txt\nsaved hae.txt to /Users/ec2-user/Data/aozorabunko-raw/000168/2302_ruby_2170/hae.txt\nsaved kikai.txt to /Users/ec2-user/Data/aozorabunko-raw/000168/907_ruby_4907/kikai.txt\nsaved hibun.txt to /Users/ec2-user/Data/aozorabunko-raw/000168/2162_ruby_5611/hibun.txt\nsaved suiren.txt to /Users/ec2-user/Data/aozorabunko-raw/000168/1103_ruby/suiren.txt\nsaved kitanai_ie.txt to /Users/ec2-user/Data/aozorabunko-raw/000168/2154_txt_16201/kitanai_ie.txt\nsaved tori_rubi.txt to /Users/ec2-user/Data/aozorabunko-raw/000168/909_ruby_518/tori_rubi.txt\nsaved hiei.txt to /Users/ec2-user/Data/aozorabunko-raw/000168/1060_ruby/hiei.txt\nsaved tsuma.txt to /Users/ec2-user/Data/aozorabunko-raw/000168/58576_ruby_63230/tsuma.txt\nsaved hanazonono_shiso.txt to /Users/ec2-user/Data/aozorabunko-raw/000168/4735_ruby_28942/hanazonono_shiso.txt\nsaved shishu_hanadensha_jo.txt to /Users/ec2-user/Data/aozorabunko-raw/000168/2157_ruby_18278/shishu_hanadensha_jo.txt\nsaved yoto.txt to /Users/ec2-user/Data/aozorabunko-raw/000168/2150_ruby/yoto.txt\nsaved tsumi.txt to /Users/ec2-user/Data/aozorabunko-raw/000168/2161_ruby_5606/tsumi.txt\n#### processing card:001872\nsaved ranpo_bunseki.txt to /Users/ec2-user/Data/aozorabunko-raw/001872/57501_ruby_63027/ranpo_bunseki.txt\nsaved kingyowa_shindeita.txt to /Users/ec2-user/Data/aozorabunko-raw/001872/57901_ruby_62115/kingyowa_shindeita.txt\nsaved giji_shinnen.txt to /Users/ec2-user/Data/aozorabunko-raw/001872/57890_txt_60626/giji_shinnen.txt\n#### processing card:001618\nsaved jogai.txt to /Users/ec2-user/Data/aozorabunko-raw/001618/54002_ruby_56846/jogai.txt\nsaved ochinu_kekkon.txt to /Users/ec2-user/Data/aozorabunko-raw/001618/54000_txt_56928/ochinu_kekkon.txt\nsaved oriko.txt to /Users/ec2-user/Data/aozorabunko-raw/001618/54001_ruby_56847/oriko.txt\nsaved warewa_rodoshayo.txt to /Users/ec2-user/Data/aozorabunko-raw/001618/54005_ruby_56962/warewa_rodoshayo.txt\nsaved sugajii.txt to /Users/ec2-user/Data/aozorabunko-raw/001618/54003_ruby_56961/sugajii.txt\nsaved rodosha_taikai.txt to /Users/ec2-user/Data/aozorabunko-raw/001618/54004_ruby_56960/rodosha_taikai.txt\nsaved okunino_tameni.txt to /Users/ec2-user/Data/aozorabunko-raw/001618/53999_txt_56929/okunino_tameni.txt\n#### processing card:001620\nsaved unsei.txt to /Users/ec2-user/Data/aozorabunko-raw/001620/54009_ruby_56968/unsei.txt\nsaved orino_naka.txt to /Users/ec2-user/Data/aozorabunko-raw/001620/54010_ruby_56933/orino_naka.txt\nsaved yoakeno_shukai.txt to /Users/ec2-user/Data/aozorabunko-raw/001620/54014_ruby_56840/yoakeno_shukai.txt\nsaved doinrei.txt to /Users/ec2-user/Data/aozorabunko-raw/001620/54013_ruby_56932/doinrei.txt\nsaved kettono_hono.txt to /Users/ec2-user/Data/aozorabunko-raw/001620/54011_txt_56839/kettono_hono.txt\nsaved gogatsu_tsuitachi.txt to /Users/ec2-user/Data/aozorabunko-raw/001620/54012_txt_56967/gogatsu_tsuitachi.txt\nsaved akai_wansho.txt to /Users/ec2-user/Data/aozorabunko-raw/001620/54008_txt_56966/akai_wansho.txt\n#### processing card:002051\nsaved tenni_tsuzuku_michi.txt to /Users/ec2-user/Data/aozorabunko-raw/002051/59538_txt_68205/tenni_tsuzuku_michi.txt\n#### processing card:000362\nsaved karafuto_datsugokuki.txt to /Users/ec2-user/Data/aozorabunko-raw/000362/2068_ruby_16700/karafuto_datsugokuki.txt\n#### processing card:001082\nsaved yume.txt to /Users/ec2-user/Data/aozorabunko-raw/001082/50182_ruby_34903/yume.txt\nsaved nono_kosho.txt to /Users/ec2-user/Data/aozorabunko-raw/001082/50184_ruby_37473/nono_kosho.txt\nsaved atarashiki_sosen.txt to /Users/ec2-user/Data/aozorabunko-raw/001082/50183_ruby_37474/atarashiki_sosen.txt\nsaved inakaishino_ko.txt to /Users/ec2-user/Data/aozorabunko-raw/001082/45648_ruby_27859/inakaishino_ko.txt\nsaved rokugatsu.txt to /Users/ec2-user/Data/aozorabunko-raw/001082/42289_ruby_15591/rokugatsu.txt\n#### processing card:000150\nsaved 06chabanashi1922.txt to /Users/ec2-user/Data/aozorabunko-raw/000150/46619_ruby_54705/06chabanashi1922.txt\nsaved shichiyano_tsucho.txt to /Users/ec2-user/Data/aozorabunko-raw/000150/4903_ruby_16846/shichiyano_tsucho.txt\nsaved dokurakuen.txt to /Users/ec2-user/Data/aozorabunko-raw/000150/52090_ruby_43619/dokurakuen.txt\nsaved shishuno_atoni.txt to /Users/ec2-user/Data/aozorabunko-raw/000150/42243_txt_23378/shishuno_atoni.txt\nsaved 11chabanashi1930.txt to /Users/ec2-user/Data/aozorabunko-raw/000150/46624_ruby_54719/11chabanashi1930.txt\nsaved yureino_shibaimi.txt to /Users/ec2-user/Data/aozorabunko-raw/000150/1526_ruby_21708/yureino_shibaimi.txt\nsaved 12chabanashi_shoshutsu_misho.txt to /Users/ec2-user/Data/aozorabunko-raw/000150/46625_ruby_54723/12chabanashi_shoshutsu_misho.txt\nsaved yamagara.txt to /Users/ec2-user/Data/aozorabunko-raw/000150/4349_ruby_9504/yamagara.txt\nsaved 10chabanashi1928.txt to /Users/ec2-user/Data/aozorabunko-raw/000150/46623_ruby_54718/10chabanashi1928.txt\nsaved 01chabanashi1915.txt to /Users/ec2-user/Data/aozorabunko-raw/000150/46596_ruby_50369/01chabanashi1915.txt\nsaved morino_koe.txt to /Users/ec2-user/Data/aozorabunko-raw/000150/1524_ruby_16850/morino_koe.txt\nsaved senpu.txt to /Users/ec2-user/Data/aozorabunko-raw/000150/16039_ruby_9500/senpu.txt\nsaved 05chabanashi1919.txt to /Users/ec2-user/Data/aozorabunko-raw/000150/46618_ruby_54499/05chabanashi1919.txt\nsaved amenohini.txt to /Users/ec2-user/Data/aozorabunko-raw/000150/804_txt_4409/amenohini.txt\nsaved haruno_fu.txt to /Users/ec2-user/Data/aozorabunko-raw/000150/48326_ruby_30631/haruno_fu.txt\nsaved tejinashito_banzan.txt to /Users/ec2-user/Data/aozorabunko-raw/000150/1525_ruby_21023/tejinashito_banzan.txt\nsaved kuroneko.txt to /Users/ec2-user/Data/aozorabunko-raw/000150/4350_ruby_9502/kuroneko.txt\nsaved sekichiku.txt to /Users/ec2-user/Data/aozorabunko-raw/000150/3388_ruby_21021/sekichiku.txt\nsaved wabisuketsubaki.txt to /Users/ec2-user/Data/aozorabunko-raw/000150/3386_ruby_21027/wabisuketsubaki.txt\nsaved hakuyokyu.txt to /Users/ec2-user/Data/aozorabunko-raw/000150/50558_ruby_61314/hakuyokyu.txt\nsaved hatsugaeru.txt to /Users/ec2-user/Data/aozorabunko-raw/000150/1522_ruby_16563/hatsugaeru.txt\nsaved asukadera.txt to /Users/ec2-user/Data/aozorabunko-raw/000150/16035_ruby_9496/asukadera.txt\nsaved meimonku.txt to /Users/ec2-user/Data/aozorabunko-raw/000150/4904_txt_16847/meimonku.txt\nsaved suisenno_genso.txt to /Users/ec2-user/Data/aozorabunko-raw/000150/3387_ruby_21019/suisenno_genso.txt\nsaved kikoji.txt to /Users/ec2-user/Data/aozorabunko-raw/000150/16036_ruby_9497/kikoji.txt\nsaved mokuseino_kaori.txt to /Users/ec2-user/Data/aozorabunko-raw/000150/3539_ruby_21025/mokuseino_kaori.txt\nsaved kumeno_sennin.txt to /Users/ec2-user/Data/aozorabunko-raw/000150/16037_ruby_9498/kumeno_sennin.txt\nsaved manryo.txt to /Users/ec2-user/Data/aozorabunko-raw/000150/4905_txt_16086/manryo.txt\nsaved 07chabanashi1925.txt to /Users/ec2-user/Data/aozorabunko-raw/000150/46620_ruby_54709/07chabanashi1925.txt\nsaved kinokono_kaori.txt to /Users/ec2-user/Data/aozorabunko-raw/000150/4895_ruby_54008/kinokono_kaori.txt\nsaved mugakuna_otsukisama.txt to /Users/ec2-user/Data/aozorabunko-raw/000150/4896_ruby_16845/mugakuna_otsukisama.txt\nsaved chugujino_haru.txt to /Users/ec2-user/Data/aozorabunko-raw/000150/48325_ruby_30630/chugujino_haru.txt\nsaved 04chabanashi1918.txt to /Users/ec2-user/Data/aozorabunko-raw/000150/46617_ruby_53786/04chabanashi1918.txt\nsaved ishio_aisuru_mono.txt to /Users/ec2-user/Data/aozorabunko-raw/000150/4901_ruby_18293/ishio_aisuru_mono.txt\nsaved sakanano_yuutsu.txt to /Users/ec2-user/Data/aozorabunko-raw/000150/1527_ruby_21017/sakanano_yuutsu.txt\nsaved chatatemushi.txt to /Users/ec2-user/Data/aozorabunko-raw/000150/4893_txt_15887/chatatemushi.txt\nsaved kotsubogari.txt to /Users/ec2-user/Data/aozorabunko-raw/000150/4352_ruby_9501/kotsubogari.txt\nsaved somokuchugyo.txt to /Users/ec2-user/Data/aozorabunko-raw/000150/3309_ruby_8192/somokuchugyo.txt\nsaved suzurito_tonosama.txt to /Users/ec2-user/Data/aozorabunko-raw/000150/4912_ruby_18296/suzurito_tonosama.txt\nsaved rikyuto_enshu.txt to /Users/ec2-user/Data/aozorabunko-raw/000150/4351_ruby_9503/rikyuto_enshu.txt\nsaved seijino_sara.txt to /Users/ec2-user/Data/aozorabunko-raw/000150/4914_ruby_18295/seijino_sara.txt\nsaved 03chabanashi1917.txt to /Users/ec2-user/Data/aozorabunko-raw/000150/46616_ruby_53776/03chabanashi1917.txt\nsaved sakurano_hana.txt to /Users/ec2-user/Data/aozorabunko-raw/000150/4898_ruby_16848/sakurano_hana.txt\nsaved sakenomi.txt to /Users/ec2-user/Data/aozorabunko-raw/000150/4916_ruby_54012/sakenomi.txt\nsaved 02chabanashi1916.txt to /Users/ec2-user/Data/aozorabunko-raw/000150/46615_ruby_50368/02chabanashi1916.txt\nsaved wakabano_ame.txt to /Users/ec2-user/Data/aozorabunko-raw/000150/1114_ruby_18854/wakabano_ame.txt\nsaved haruna.txt to /Users/ec2-user/Data/aozorabunko-raw/000150/4897_ruby_16849/haruna.txt\nsaved koshoken.txt to /Users/ec2-user/Data/aozorabunko-raw/000150/4913_ruby_18294/koshoken.txt\nsaved koitsuma.txt to /Users/ec2-user/Data/aozorabunko-raw/000150/48324_ruby_30629/koitsuma.txt\nsaved 08chabanashi1926.txt to /Users/ec2-user/Data/aozorabunko-raw/000150/46621_ruby_54713/08chabanashi1926.txt\nsaved kusano_shitashimi.txt to /Users/ec2-user/Data/aozorabunko-raw/000150/805_txt_20995/kusano_shitashimi.txt\nsaved kyukin_shisho.txt to /Users/ec2-user/Data/aozorabunko-raw/000150/42241_ruby_49618/kyukin_shisho.txt\nsaved 09chabanashi1927.txt to /Users/ec2-user/Data/aozorabunko-raw/000150/46622_ruby_54714/09chabanashi1927.txt\nsaved sake.txt to /Users/ec2-user/Data/aozorabunko-raw/000150/4915_ruby_54013/sake.txt\nsaved kiyona_kotobano_share.txt to /Users/ec2-user/Data/aozorabunko-raw/000150/4900_ruby_54007/kiyona_kotobano_share.txt\nsaved ganbutsu.txt to /Users/ec2-user/Data/aozorabunko-raw/000150/4911_ruby_18292/ganbutsu.txt\nsaved atai.txt to /Users/ec2-user/Data/aozorabunko-raw/000150/4894_ruby_18291/atai.txt\nsaved saidaiji.txt to /Users/ec2-user/Data/aozorabunko-raw/000150/16038_ruby_9499/saidaiji.txt\n#### processing card:001875\nsaved nijushino_hitomi.txt to /Users/ec2-user/Data/aozorabunko-raw/001875/57856_ruby_63623/nijushino_hitomi.txt\nsaved hitotsumino_kimono.txt to /Users/ec2-user/Data/aozorabunko-raw/001875/58921_ruby_64907/hitotsumino_kimono.txt\nsaved setouchino_kozakanatachi.txt to /Users/ec2-user/Data/aozorabunko-raw/001875/59874_ruby_68697/setouchino_kozakanatachi.txt\n#### processing card:001049\nsaved kagakuno_fushigi.txt to /Users/ec2-user/Data/aozorabunko-raw/001049/4920_ruby_39154/kagakuno_fushigi.txt\n#### processing card:001272\nsaved nihonshumi_eiga.txt to /Users/ec2-user/Data/aozorabunko-raw/001272/46981_ruby_41615/nihonshumi_eiga.txt\n#### processing card:000354\nsaved mokumokuseikan.txt to /Users/ec2-user/Data/aozorabunko-raw/000354/46190_txt_21759/mokumokuseikan.txt\nsaved taiseijunno.txt to /Users/ec2-user/Data/aozorabunko-raw/000354/46191_txt_21756/taiseijunno.txt\nsaved 01eishi.txt to /Users/ec2-user/Data/aozorabunko-raw/000354/48282_txt_37264/01eishi.txt\nsaved hatamotoitengono_shimatsu.txt to /Users/ec2-user/Data/aozorabunko-raw/000354/2405_txt_21498/hatamotoitengono_shimatsu.txt\nsaved ryokan'undo.txt to /Users/ec2-user/Data/aozorabunko-raw/000354/46192_txt_21761/ryokan'undo.txt\n#### processing card:001286\nsaved keibakogyoto_keibakyono.txt to /Users/ec2-user/Data/aozorabunko-raw/001286/47066_txt_32183/keibakogyoto_keibakyono.txt\n#### processing card:000166\nsaved xanthis.txt to /Users/ec2-user/Data/aozorabunko-raw/000166/892_ruby_20935/xanthis.txt\n#### processing card:000159\nsaved jibundakeno_sekai.txt to /Users/ec2-user/Data/aozorabunko-raw/000159/853_ruby_1337/jibundakeno_sekai.txt\nsaved fukyoshigo.txt to /Users/ec2-user/Data/aozorabunko-raw/000159/849_ruby/fukyoshigo.txt\nsaved kyorakuza.txt to /Users/ec2-user/Data/aozorabunko-raw/000159/854_ruby_21300/kyorakuza.txt\nsaved dadao_koneru.txt to /Users/ec2-user/Data/aozorabunko-raw/000159/847_ruby_21071/dadao_koneru.txt\nsaved damindo_mogo.txt to /Users/ec2-user/Data/aozorabunko-raw/000159/848_ruby_21059/damindo_mogo.txt\nsaved Verito.txt to /Users/ec2-user/Data/aozorabunko-raw/000159/858_ruby/Verito.txt\nsaved tada_dada.txt to /Users/ec2-user/Data/aozorabunko-raw/000159/857_ruby_1343/tada_dada.txt\nsaved shosai.txt to /Users/ec2-user/Data/aozorabunko-raw/000159/2400_ruby_30894/shosai.txt\nsaved sakkakushita.txt to /Users/ec2-user/Data/aozorabunko-raw/000159/856_ruby/sakkakushita.txt\nsaved fumoresuku.txt to /Users/ec2-user/Data/aozorabunko-raw/000159/852_ruby_21055/fumoresuku.txt\nsaved sakkaku_jigasetsu.txt to /Users/ec2-user/Data/aozorabunko-raw/000159/855_ruby_21057/sakkaku_jigasetsu.txt\nsaved aoumao_mitari_jo_tsuji.txt to /Users/ec2-user/Data/aozorabunko-raw/000159/49431_txt_32358/aoumao_mitari_jo_tsuji.txt\nsaved furomango.txt to /Users/ec2-user/Data/aozorabunko-raw/000159/850_ruby/furomango.txt\nsaved hennaatama.txt to /Users/ec2-user/Data/aozorabunko-raw/000159/851_ruby/hennaatama.txt\n#### processing card:000195\nsaved oreno_ki.txt to /Users/ec2-user/Data/aozorabunko-raw/000195/43775_ruby_25014/oreno_ki.txt\nsaved nyuan_zakki.txt to /Users/ec2-user/Data/aozorabunko-raw/000195/43777_ruby_24961/nyuan_zakki.txt\nsaved ishi.txt to /Users/ec2-user/Data/aozorabunko-raw/000195/4446_txt_7696/ishi.txt\nsaved umi.txt to /Users/ec2-user/Data/aozorabunko-raw/000195/46430_ruby_27446/umi.txt\nsaved ozaki_hosai_senkushu.txt to /Users/ec2-user/Data/aozorabunko-raw/000195/974_txt_317/ozaki_hosai_senkushu.txt\nsaved hokuro_raian.txt to /Users/ec2-user/Data/aozorabunko-raw/000195/43776_txt_24962/hokuro_raian.txt\nsaved yogisha.txt to /Users/ec2-user/Data/aozorabunko-raw/000195/49787_ruby_51187/yogisha.txt\n#### processing card:001047\nsaved ienakiko_ge.txt to /Users/ec2-user/Data/aozorabunko-raw/001047/42925_ruby_15480/ienakiko_ge.txt\nsaved ienakiko_jo.txt to /Users/ec2-user/Data/aozorabunko-raw/001047/42924_ruby_15479/ienakiko_jo.txt\n#### processing card:001611\nsaved orokanaru_monoyo.txt to /Users/ec2-user/Data/aozorabunko-raw/001611/53939_ruby_65427/orokanaru_monoyo.txt\nsaved kozuino_yoni.txt to /Users/ec2-user/Data/aozorabunko-raw/001611/53940_ruby_66481/kozuino_yoni.txt\n#### processing card:000398\nsaved chuboku.txt to /Users/ec2-user/Data/aozorabunko-raw/000398/55988_ruby_55574/chuboku.txt\nsaved hashi.txt to /Users/ec2-user/Data/aozorabunko-raw/000398/4089_ruby_6972/hashi.txt\n#### processing card:001844\n[Errno 2] No such file or directory: '/Users/ec2-user/Data/aozorabunko/cards/001844/files'\nskipping card 001844\n#### processing card:001078\nsaved 18botan_toki.txt to /Users/ec2-user/Data/aozorabunko-raw/001078/4999_ruby_12229/18botan_toki.txt\n"
    }
   ],
   "source": [
    "process_all_cards(aozora_cards)"
   ]
  },
  {
   "cell_type": "code",
   "execution_count": null,
   "metadata": {},
   "outputs": [],
   "source": []
  }
 ]
}